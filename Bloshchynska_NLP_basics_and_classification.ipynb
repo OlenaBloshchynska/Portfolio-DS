{
  "nbformat": 4,
  "nbformat_minor": 0,
  "metadata": {
    "colab": {
      "provenance": []
    },
    "kernelspec": {
      "name": "python3",
      "display_name": "Python 3"
    },
    "language_info": {
      "name": "python"
    }
  },
  "cells": [
    {
      "cell_type": "markdown",
      "source": [
        "In this notebook, I'm working with building a Sentiment Classifier Based on the Tweet Sentiment Extraction Dataset.\n",
        "\n",
        "Objective is to conduct an analysis of the dataset, perform text data vectorization using bag-of-words and TF-IDF methods, compare them, build a classifier, and conduct error analysis.\n",
        "\n",
        "The data is sourced from this competition on Kaggle: https://www.kaggle.com/competitions/tweet-sentiment-extraction/data?select=train.csv\n",
        "\n",
        "Task 1: Loading and Exploring the Dataset Download the train.csv dataset from the link and familiarize with its structure. I display the first 5 rows and the main statistics: number of records, column types, and number of missing values. Remove the records with missing values.\n"
      ],
      "metadata": {
        "id": "Zl1UHn4aRLMg"
      }
    },
    {
      "cell_type": "code",
      "source": [
        "from google.colab import drive\n",
        "drive.mount('/content/drive')"
      ],
      "metadata": {
        "id": "z9PAZcZgddHT",
        "colab": {
          "base_uri": "https://localhost:8080/"
        },
        "outputId": "7567d704-df7b-4277-be90-f67f9b48cedc"
      },
      "execution_count": 1,
      "outputs": [
        {
          "output_type": "stream",
          "name": "stdout",
          "text": [
            "Mounted at /content/drive\n"
          ]
        }
      ]
    },
    {
      "cell_type": "code",
      "source": [
        "import pandas as pd\n",
        "df = pd.read_csv('/content/drive/MyDrive/Colab Notebooks/train.csv')\n",
        "df.head()"
      ],
      "metadata": {
        "colab": {
          "base_uri": "https://localhost:8080/",
          "height": 206
        },
        "id": "s0WZeZrrizkd",
        "outputId": "3dfecacf-7253-4ba8-84f4-89c420ee1df9"
      },
      "execution_count": 2,
      "outputs": [
        {
          "output_type": "execute_result",
          "data": {
            "text/plain": [
              "       textID                                               text  \\\n",
              "0  cb774db0d1                I`d have responded, if I were going   \n",
              "1  549e992a42      Sooo SAD I will miss you here in San Diego!!!   \n",
              "2  088c60f138                          my boss is bullying me...   \n",
              "3  9642c003ef                     what interview! leave me alone   \n",
              "4  358bd9e861   Sons of ****, why couldn`t they put them on t...   \n",
              "\n",
              "                         selected_text sentiment  \n",
              "0  I`d have responded, if I were going   neutral  \n",
              "1                             Sooo SAD  negative  \n",
              "2                          bullying me  negative  \n",
              "3                       leave me alone  negative  \n",
              "4                        Sons of ****,  negative  "
            ],
            "text/html": [
              "\n",
              "  <div id=\"df-36cb3793-324d-406b-89be-636b51e66862\" class=\"colab-df-container\">\n",
              "    <div>\n",
              "<style scoped>\n",
              "    .dataframe tbody tr th:only-of-type {\n",
              "        vertical-align: middle;\n",
              "    }\n",
              "\n",
              "    .dataframe tbody tr th {\n",
              "        vertical-align: top;\n",
              "    }\n",
              "\n",
              "    .dataframe thead th {\n",
              "        text-align: right;\n",
              "    }\n",
              "</style>\n",
              "<table border=\"1\" class=\"dataframe\">\n",
              "  <thead>\n",
              "    <tr style=\"text-align: right;\">\n",
              "      <th></th>\n",
              "      <th>textID</th>\n",
              "      <th>text</th>\n",
              "      <th>selected_text</th>\n",
              "      <th>sentiment</th>\n",
              "    </tr>\n",
              "  </thead>\n",
              "  <tbody>\n",
              "    <tr>\n",
              "      <th>0</th>\n",
              "      <td>cb774db0d1</td>\n",
              "      <td>I`d have responded, if I were going</td>\n",
              "      <td>I`d have responded, if I were going</td>\n",
              "      <td>neutral</td>\n",
              "    </tr>\n",
              "    <tr>\n",
              "      <th>1</th>\n",
              "      <td>549e992a42</td>\n",
              "      <td>Sooo SAD I will miss you here in San Diego!!!</td>\n",
              "      <td>Sooo SAD</td>\n",
              "      <td>negative</td>\n",
              "    </tr>\n",
              "    <tr>\n",
              "      <th>2</th>\n",
              "      <td>088c60f138</td>\n",
              "      <td>my boss is bullying me...</td>\n",
              "      <td>bullying me</td>\n",
              "      <td>negative</td>\n",
              "    </tr>\n",
              "    <tr>\n",
              "      <th>3</th>\n",
              "      <td>9642c003ef</td>\n",
              "      <td>what interview! leave me alone</td>\n",
              "      <td>leave me alone</td>\n",
              "      <td>negative</td>\n",
              "    </tr>\n",
              "    <tr>\n",
              "      <th>4</th>\n",
              "      <td>358bd9e861</td>\n",
              "      <td>Sons of ****, why couldn`t they put them on t...</td>\n",
              "      <td>Sons of ****,</td>\n",
              "      <td>negative</td>\n",
              "    </tr>\n",
              "  </tbody>\n",
              "</table>\n",
              "</div>\n",
              "    <div class=\"colab-df-buttons\">\n",
              "\n",
              "  <div class=\"colab-df-container\">\n",
              "    <button class=\"colab-df-convert\" onclick=\"convertToInteractive('df-36cb3793-324d-406b-89be-636b51e66862')\"\n",
              "            title=\"Convert this dataframe to an interactive table.\"\n",
              "            style=\"display:none;\">\n",
              "\n",
              "  <svg xmlns=\"http://www.w3.org/2000/svg\" height=\"24px\" viewBox=\"0 -960 960 960\">\n",
              "    <path d=\"M120-120v-720h720v720H120Zm60-500h600v-160H180v160Zm220 220h160v-160H400v160Zm0 220h160v-160H400v160ZM180-400h160v-160H180v160Zm440 0h160v-160H620v160ZM180-180h160v-160H180v160Zm440 0h160v-160H620v160Z\"/>\n",
              "  </svg>\n",
              "    </button>\n",
              "\n",
              "  <style>\n",
              "    .colab-df-container {\n",
              "      display:flex;\n",
              "      gap: 12px;\n",
              "    }\n",
              "\n",
              "    .colab-df-convert {\n",
              "      background-color: #E8F0FE;\n",
              "      border: none;\n",
              "      border-radius: 50%;\n",
              "      cursor: pointer;\n",
              "      display: none;\n",
              "      fill: #1967D2;\n",
              "      height: 32px;\n",
              "      padding: 0 0 0 0;\n",
              "      width: 32px;\n",
              "    }\n",
              "\n",
              "    .colab-df-convert:hover {\n",
              "      background-color: #E2EBFA;\n",
              "      box-shadow: 0px 1px 2px rgba(60, 64, 67, 0.3), 0px 1px 3px 1px rgba(60, 64, 67, 0.15);\n",
              "      fill: #174EA6;\n",
              "    }\n",
              "\n",
              "    .colab-df-buttons div {\n",
              "      margin-bottom: 4px;\n",
              "    }\n",
              "\n",
              "    [theme=dark] .colab-df-convert {\n",
              "      background-color: #3B4455;\n",
              "      fill: #D2E3FC;\n",
              "    }\n",
              "\n",
              "    [theme=dark] .colab-df-convert:hover {\n",
              "      background-color: #434B5C;\n",
              "      box-shadow: 0px 1px 3px 1px rgba(0, 0, 0, 0.15);\n",
              "      filter: drop-shadow(0px 1px 2px rgba(0, 0, 0, 0.3));\n",
              "      fill: #FFFFFF;\n",
              "    }\n",
              "  </style>\n",
              "\n",
              "    <script>\n",
              "      const buttonEl =\n",
              "        document.querySelector('#df-36cb3793-324d-406b-89be-636b51e66862 button.colab-df-convert');\n",
              "      buttonEl.style.display =\n",
              "        google.colab.kernel.accessAllowed ? 'block' : 'none';\n",
              "\n",
              "      async function convertToInteractive(key) {\n",
              "        const element = document.querySelector('#df-36cb3793-324d-406b-89be-636b51e66862');\n",
              "        const dataTable =\n",
              "          await google.colab.kernel.invokeFunction('convertToInteractive',\n",
              "                                                    [key], {});\n",
              "        if (!dataTable) return;\n",
              "\n",
              "        const docLinkHtml = 'Like what you see? Visit the ' +\n",
              "          '<a target=\"_blank\" href=https://colab.research.google.com/notebooks/data_table.ipynb>data table notebook</a>'\n",
              "          + ' to learn more about interactive tables.';\n",
              "        element.innerHTML = '';\n",
              "        dataTable['output_type'] = 'display_data';\n",
              "        await google.colab.output.renderOutput(dataTable, element);\n",
              "        const docLink = document.createElement('div');\n",
              "        docLink.innerHTML = docLinkHtml;\n",
              "        element.appendChild(docLink);\n",
              "      }\n",
              "    </script>\n",
              "  </div>\n",
              "\n",
              "\n",
              "<div id=\"df-a17b5bd2-9400-4cec-aa18-a6f34e4deaa5\">\n",
              "  <button class=\"colab-df-quickchart\" onclick=\"quickchart('df-a17b5bd2-9400-4cec-aa18-a6f34e4deaa5')\"\n",
              "            title=\"Suggest charts\"\n",
              "            style=\"display:none;\">\n",
              "\n",
              "<svg xmlns=\"http://www.w3.org/2000/svg\" height=\"24px\"viewBox=\"0 0 24 24\"\n",
              "     width=\"24px\">\n",
              "    <g>\n",
              "        <path d=\"M19 3H5c-1.1 0-2 .9-2 2v14c0 1.1.9 2 2 2h14c1.1 0 2-.9 2-2V5c0-1.1-.9-2-2-2zM9 17H7v-7h2v7zm4 0h-2V7h2v10zm4 0h-2v-4h2v4z\"/>\n",
              "    </g>\n",
              "</svg>\n",
              "  </button>\n",
              "\n",
              "<style>\n",
              "  .colab-df-quickchart {\n",
              "      --bg-color: #E8F0FE;\n",
              "      --fill-color: #1967D2;\n",
              "      --hover-bg-color: #E2EBFA;\n",
              "      --hover-fill-color: #174EA6;\n",
              "      --disabled-fill-color: #AAA;\n",
              "      --disabled-bg-color: #DDD;\n",
              "  }\n",
              "\n",
              "  [theme=dark] .colab-df-quickchart {\n",
              "      --bg-color: #3B4455;\n",
              "      --fill-color: #D2E3FC;\n",
              "      --hover-bg-color: #434B5C;\n",
              "      --hover-fill-color: #FFFFFF;\n",
              "      --disabled-bg-color: #3B4455;\n",
              "      --disabled-fill-color: #666;\n",
              "  }\n",
              "\n",
              "  .colab-df-quickchart {\n",
              "    background-color: var(--bg-color);\n",
              "    border: none;\n",
              "    border-radius: 50%;\n",
              "    cursor: pointer;\n",
              "    display: none;\n",
              "    fill: var(--fill-color);\n",
              "    height: 32px;\n",
              "    padding: 0;\n",
              "    width: 32px;\n",
              "  }\n",
              "\n",
              "  .colab-df-quickchart:hover {\n",
              "    background-color: var(--hover-bg-color);\n",
              "    box-shadow: 0 1px 2px rgba(60, 64, 67, 0.3), 0 1px 3px 1px rgba(60, 64, 67, 0.15);\n",
              "    fill: var(--button-hover-fill-color);\n",
              "  }\n",
              "\n",
              "  .colab-df-quickchart-complete:disabled,\n",
              "  .colab-df-quickchart-complete:disabled:hover {\n",
              "    background-color: var(--disabled-bg-color);\n",
              "    fill: var(--disabled-fill-color);\n",
              "    box-shadow: none;\n",
              "  }\n",
              "\n",
              "  .colab-df-spinner {\n",
              "    border: 2px solid var(--fill-color);\n",
              "    border-color: transparent;\n",
              "    border-bottom-color: var(--fill-color);\n",
              "    animation:\n",
              "      spin 1s steps(1) infinite;\n",
              "  }\n",
              "\n",
              "  @keyframes spin {\n",
              "    0% {\n",
              "      border-color: transparent;\n",
              "      border-bottom-color: var(--fill-color);\n",
              "      border-left-color: var(--fill-color);\n",
              "    }\n",
              "    20% {\n",
              "      border-color: transparent;\n",
              "      border-left-color: var(--fill-color);\n",
              "      border-top-color: var(--fill-color);\n",
              "    }\n",
              "    30% {\n",
              "      border-color: transparent;\n",
              "      border-left-color: var(--fill-color);\n",
              "      border-top-color: var(--fill-color);\n",
              "      border-right-color: var(--fill-color);\n",
              "    }\n",
              "    40% {\n",
              "      border-color: transparent;\n",
              "      border-right-color: var(--fill-color);\n",
              "      border-top-color: var(--fill-color);\n",
              "    }\n",
              "    60% {\n",
              "      border-color: transparent;\n",
              "      border-right-color: var(--fill-color);\n",
              "    }\n",
              "    80% {\n",
              "      border-color: transparent;\n",
              "      border-right-color: var(--fill-color);\n",
              "      border-bottom-color: var(--fill-color);\n",
              "    }\n",
              "    90% {\n",
              "      border-color: transparent;\n",
              "      border-bottom-color: var(--fill-color);\n",
              "    }\n",
              "  }\n",
              "</style>\n",
              "\n",
              "  <script>\n",
              "    async function quickchart(key) {\n",
              "      const quickchartButtonEl =\n",
              "        document.querySelector('#' + key + ' button');\n",
              "      quickchartButtonEl.disabled = true;  // To prevent multiple clicks.\n",
              "      quickchartButtonEl.classList.add('colab-df-spinner');\n",
              "      try {\n",
              "        const charts = await google.colab.kernel.invokeFunction(\n",
              "            'suggestCharts', [key], {});\n",
              "      } catch (error) {\n",
              "        console.error('Error during call to suggestCharts:', error);\n",
              "      }\n",
              "      quickchartButtonEl.classList.remove('colab-df-spinner');\n",
              "      quickchartButtonEl.classList.add('colab-df-quickchart-complete');\n",
              "    }\n",
              "    (() => {\n",
              "      let quickchartButtonEl =\n",
              "        document.querySelector('#df-a17b5bd2-9400-4cec-aa18-a6f34e4deaa5 button');\n",
              "      quickchartButtonEl.style.display =\n",
              "        google.colab.kernel.accessAllowed ? 'block' : 'none';\n",
              "    })();\n",
              "  </script>\n",
              "</div>\n",
              "\n",
              "    </div>\n",
              "  </div>\n"
            ],
            "application/vnd.google.colaboratory.intrinsic+json": {
              "type": "dataframe",
              "variable_name": "df",
              "summary": "{\n  \"name\": \"df\",\n  \"rows\": 27481,\n  \"fields\": [\n    {\n      \"column\": \"textID\",\n      \"properties\": {\n        \"dtype\": \"string\",\n        \"num_unique_values\": 27481,\n        \"samples\": [\n          \"a7f72a928a\",\n          \"ef42dee96c\",\n          \"07d17131b1\"\n        ],\n        \"semantic_type\": \"\",\n        \"description\": \"\"\n      }\n    },\n    {\n      \"column\": \"text\",\n      \"properties\": {\n        \"dtype\": \"string\",\n        \"num_unique_values\": 27480,\n        \"samples\": [\n          \" Enjoy! Family trumps everything\",\n          \" --of them kinda turns me off of it all.  And then I buy more of them and dig a deeper hole, etc. ;;\",\n          \"Clive it`s my birthday pat me  http://apps.facebook.com/dogbook/profile/view/6386106\"\n        ],\n        \"semantic_type\": \"\",\n        \"description\": \"\"\n      }\n    },\n    {\n      \"column\": \"selected_text\",\n      \"properties\": {\n        \"dtype\": \"string\",\n        \"num_unique_values\": 22463,\n        \"samples\": [\n          \"we win\",\n          \"YES!!! haahaaa.! break out the jellybeaniesss!\",\n          \"hay wats ur AIM? we should chat\"\n        ],\n        \"semantic_type\": \"\",\n        \"description\": \"\"\n      }\n    },\n    {\n      \"column\": \"sentiment\",\n      \"properties\": {\n        \"dtype\": \"category\",\n        \"num_unique_values\": 3,\n        \"samples\": [\n          \"neutral\",\n          \"negative\",\n          \"positive\"\n        ],\n        \"semantic_type\": \"\",\n        \"description\": \"\"\n      }\n    }\n  ]\n}"
            }
          },
          "metadata": {},
          "execution_count": 2
        }
      ]
    },
    {
      "cell_type": "code",
      "source": [
        "df.info()"
      ],
      "metadata": {
        "colab": {
          "base_uri": "https://localhost:8080/"
        },
        "id": "RddpEaZdkhQO",
        "outputId": "6c2bf892-3474-47c7-97f9-196eebc603a7"
      },
      "execution_count": 3,
      "outputs": [
        {
          "output_type": "stream",
          "name": "stdout",
          "text": [
            "<class 'pandas.core.frame.DataFrame'>\n",
            "RangeIndex: 27481 entries, 0 to 27480\n",
            "Data columns (total 4 columns):\n",
            " #   Column         Non-Null Count  Dtype \n",
            "---  ------         --------------  ----- \n",
            " 0   textID         27481 non-null  object\n",
            " 1   text           27480 non-null  object\n",
            " 2   selected_text  27480 non-null  object\n",
            " 3   sentiment      27481 non-null  object\n",
            "dtypes: object(4)\n",
            "memory usage: 858.9+ KB\n"
          ]
        }
      ]
    },
    {
      "cell_type": "code",
      "source": [
        "df.describe()"
      ],
      "metadata": {
        "colab": {
          "base_uri": "https://localhost:8080/",
          "height": 175
        },
        "id": "s6MXtdSklAuK",
        "outputId": "5b5f9cdd-4f67-422d-83b3-6352f466f64a"
      },
      "execution_count": 4,
      "outputs": [
        {
          "output_type": "execute_result",
          "data": {
            "text/plain": [
              "            textID                                  text selected_text  \\\n",
              "count        27481                                 27480         27480   \n",
              "unique       27481                                 27480         22463   \n",
              "top     cb774db0d1   I`d have responded, if I were going          good   \n",
              "freq             1                                     1           199   \n",
              "\n",
              "       sentiment  \n",
              "count      27481  \n",
              "unique         3  \n",
              "top      neutral  \n",
              "freq       11118  "
            ],
            "text/html": [
              "\n",
              "  <div id=\"df-63794580-3f0c-4528-af30-df5b791974e8\" class=\"colab-df-container\">\n",
              "    <div>\n",
              "<style scoped>\n",
              "    .dataframe tbody tr th:only-of-type {\n",
              "        vertical-align: middle;\n",
              "    }\n",
              "\n",
              "    .dataframe tbody tr th {\n",
              "        vertical-align: top;\n",
              "    }\n",
              "\n",
              "    .dataframe thead th {\n",
              "        text-align: right;\n",
              "    }\n",
              "</style>\n",
              "<table border=\"1\" class=\"dataframe\">\n",
              "  <thead>\n",
              "    <tr style=\"text-align: right;\">\n",
              "      <th></th>\n",
              "      <th>textID</th>\n",
              "      <th>text</th>\n",
              "      <th>selected_text</th>\n",
              "      <th>sentiment</th>\n",
              "    </tr>\n",
              "  </thead>\n",
              "  <tbody>\n",
              "    <tr>\n",
              "      <th>count</th>\n",
              "      <td>27481</td>\n",
              "      <td>27480</td>\n",
              "      <td>27480</td>\n",
              "      <td>27481</td>\n",
              "    </tr>\n",
              "    <tr>\n",
              "      <th>unique</th>\n",
              "      <td>27481</td>\n",
              "      <td>27480</td>\n",
              "      <td>22463</td>\n",
              "      <td>3</td>\n",
              "    </tr>\n",
              "    <tr>\n",
              "      <th>top</th>\n",
              "      <td>cb774db0d1</td>\n",
              "      <td>I`d have responded, if I were going</td>\n",
              "      <td>good</td>\n",
              "      <td>neutral</td>\n",
              "    </tr>\n",
              "    <tr>\n",
              "      <th>freq</th>\n",
              "      <td>1</td>\n",
              "      <td>1</td>\n",
              "      <td>199</td>\n",
              "      <td>11118</td>\n",
              "    </tr>\n",
              "  </tbody>\n",
              "</table>\n",
              "</div>\n",
              "    <div class=\"colab-df-buttons\">\n",
              "\n",
              "  <div class=\"colab-df-container\">\n",
              "    <button class=\"colab-df-convert\" onclick=\"convertToInteractive('df-63794580-3f0c-4528-af30-df5b791974e8')\"\n",
              "            title=\"Convert this dataframe to an interactive table.\"\n",
              "            style=\"display:none;\">\n",
              "\n",
              "  <svg xmlns=\"http://www.w3.org/2000/svg\" height=\"24px\" viewBox=\"0 -960 960 960\">\n",
              "    <path d=\"M120-120v-720h720v720H120Zm60-500h600v-160H180v160Zm220 220h160v-160H400v160Zm0 220h160v-160H400v160ZM180-400h160v-160H180v160Zm440 0h160v-160H620v160ZM180-180h160v-160H180v160Zm440 0h160v-160H620v160Z\"/>\n",
              "  </svg>\n",
              "    </button>\n",
              "\n",
              "  <style>\n",
              "    .colab-df-container {\n",
              "      display:flex;\n",
              "      gap: 12px;\n",
              "    }\n",
              "\n",
              "    .colab-df-convert {\n",
              "      background-color: #E8F0FE;\n",
              "      border: none;\n",
              "      border-radius: 50%;\n",
              "      cursor: pointer;\n",
              "      display: none;\n",
              "      fill: #1967D2;\n",
              "      height: 32px;\n",
              "      padding: 0 0 0 0;\n",
              "      width: 32px;\n",
              "    }\n",
              "\n",
              "    .colab-df-convert:hover {\n",
              "      background-color: #E2EBFA;\n",
              "      box-shadow: 0px 1px 2px rgba(60, 64, 67, 0.3), 0px 1px 3px 1px rgba(60, 64, 67, 0.15);\n",
              "      fill: #174EA6;\n",
              "    }\n",
              "\n",
              "    .colab-df-buttons div {\n",
              "      margin-bottom: 4px;\n",
              "    }\n",
              "\n",
              "    [theme=dark] .colab-df-convert {\n",
              "      background-color: #3B4455;\n",
              "      fill: #D2E3FC;\n",
              "    }\n",
              "\n",
              "    [theme=dark] .colab-df-convert:hover {\n",
              "      background-color: #434B5C;\n",
              "      box-shadow: 0px 1px 3px 1px rgba(0, 0, 0, 0.15);\n",
              "      filter: drop-shadow(0px 1px 2px rgba(0, 0, 0, 0.3));\n",
              "      fill: #FFFFFF;\n",
              "    }\n",
              "  </style>\n",
              "\n",
              "    <script>\n",
              "      const buttonEl =\n",
              "        document.querySelector('#df-63794580-3f0c-4528-af30-df5b791974e8 button.colab-df-convert');\n",
              "      buttonEl.style.display =\n",
              "        google.colab.kernel.accessAllowed ? 'block' : 'none';\n",
              "\n",
              "      async function convertToInteractive(key) {\n",
              "        const element = document.querySelector('#df-63794580-3f0c-4528-af30-df5b791974e8');\n",
              "        const dataTable =\n",
              "          await google.colab.kernel.invokeFunction('convertToInteractive',\n",
              "                                                    [key], {});\n",
              "        if (!dataTable) return;\n",
              "\n",
              "        const docLinkHtml = 'Like what you see? Visit the ' +\n",
              "          '<a target=\"_blank\" href=https://colab.research.google.com/notebooks/data_table.ipynb>data table notebook</a>'\n",
              "          + ' to learn more about interactive tables.';\n",
              "        element.innerHTML = '';\n",
              "        dataTable['output_type'] = 'display_data';\n",
              "        await google.colab.output.renderOutput(dataTable, element);\n",
              "        const docLink = document.createElement('div');\n",
              "        docLink.innerHTML = docLinkHtml;\n",
              "        element.appendChild(docLink);\n",
              "      }\n",
              "    </script>\n",
              "  </div>\n",
              "\n",
              "\n",
              "<div id=\"df-3a04bfb4-cd3b-403d-95df-33582b209760\">\n",
              "  <button class=\"colab-df-quickchart\" onclick=\"quickchart('df-3a04bfb4-cd3b-403d-95df-33582b209760')\"\n",
              "            title=\"Suggest charts\"\n",
              "            style=\"display:none;\">\n",
              "\n",
              "<svg xmlns=\"http://www.w3.org/2000/svg\" height=\"24px\"viewBox=\"0 0 24 24\"\n",
              "     width=\"24px\">\n",
              "    <g>\n",
              "        <path d=\"M19 3H5c-1.1 0-2 .9-2 2v14c0 1.1.9 2 2 2h14c1.1 0 2-.9 2-2V5c0-1.1-.9-2-2-2zM9 17H7v-7h2v7zm4 0h-2V7h2v10zm4 0h-2v-4h2v4z\"/>\n",
              "    </g>\n",
              "</svg>\n",
              "  </button>\n",
              "\n",
              "<style>\n",
              "  .colab-df-quickchart {\n",
              "      --bg-color: #E8F0FE;\n",
              "      --fill-color: #1967D2;\n",
              "      --hover-bg-color: #E2EBFA;\n",
              "      --hover-fill-color: #174EA6;\n",
              "      --disabled-fill-color: #AAA;\n",
              "      --disabled-bg-color: #DDD;\n",
              "  }\n",
              "\n",
              "  [theme=dark] .colab-df-quickchart {\n",
              "      --bg-color: #3B4455;\n",
              "      --fill-color: #D2E3FC;\n",
              "      --hover-bg-color: #434B5C;\n",
              "      --hover-fill-color: #FFFFFF;\n",
              "      --disabled-bg-color: #3B4455;\n",
              "      --disabled-fill-color: #666;\n",
              "  }\n",
              "\n",
              "  .colab-df-quickchart {\n",
              "    background-color: var(--bg-color);\n",
              "    border: none;\n",
              "    border-radius: 50%;\n",
              "    cursor: pointer;\n",
              "    display: none;\n",
              "    fill: var(--fill-color);\n",
              "    height: 32px;\n",
              "    padding: 0;\n",
              "    width: 32px;\n",
              "  }\n",
              "\n",
              "  .colab-df-quickchart:hover {\n",
              "    background-color: var(--hover-bg-color);\n",
              "    box-shadow: 0 1px 2px rgba(60, 64, 67, 0.3), 0 1px 3px 1px rgba(60, 64, 67, 0.15);\n",
              "    fill: var(--button-hover-fill-color);\n",
              "  }\n",
              "\n",
              "  .colab-df-quickchart-complete:disabled,\n",
              "  .colab-df-quickchart-complete:disabled:hover {\n",
              "    background-color: var(--disabled-bg-color);\n",
              "    fill: var(--disabled-fill-color);\n",
              "    box-shadow: none;\n",
              "  }\n",
              "\n",
              "  .colab-df-spinner {\n",
              "    border: 2px solid var(--fill-color);\n",
              "    border-color: transparent;\n",
              "    border-bottom-color: var(--fill-color);\n",
              "    animation:\n",
              "      spin 1s steps(1) infinite;\n",
              "  }\n",
              "\n",
              "  @keyframes spin {\n",
              "    0% {\n",
              "      border-color: transparent;\n",
              "      border-bottom-color: var(--fill-color);\n",
              "      border-left-color: var(--fill-color);\n",
              "    }\n",
              "    20% {\n",
              "      border-color: transparent;\n",
              "      border-left-color: var(--fill-color);\n",
              "      border-top-color: var(--fill-color);\n",
              "    }\n",
              "    30% {\n",
              "      border-color: transparent;\n",
              "      border-left-color: var(--fill-color);\n",
              "      border-top-color: var(--fill-color);\n",
              "      border-right-color: var(--fill-color);\n",
              "    }\n",
              "    40% {\n",
              "      border-color: transparent;\n",
              "      border-right-color: var(--fill-color);\n",
              "      border-top-color: var(--fill-color);\n",
              "    }\n",
              "    60% {\n",
              "      border-color: transparent;\n",
              "      border-right-color: var(--fill-color);\n",
              "    }\n",
              "    80% {\n",
              "      border-color: transparent;\n",
              "      border-right-color: var(--fill-color);\n",
              "      border-bottom-color: var(--fill-color);\n",
              "    }\n",
              "    90% {\n",
              "      border-color: transparent;\n",
              "      border-bottom-color: var(--fill-color);\n",
              "    }\n",
              "  }\n",
              "</style>\n",
              "\n",
              "  <script>\n",
              "    async function quickchart(key) {\n",
              "      const quickchartButtonEl =\n",
              "        document.querySelector('#' + key + ' button');\n",
              "      quickchartButtonEl.disabled = true;  // To prevent multiple clicks.\n",
              "      quickchartButtonEl.classList.add('colab-df-spinner');\n",
              "      try {\n",
              "        const charts = await google.colab.kernel.invokeFunction(\n",
              "            'suggestCharts', [key], {});\n",
              "      } catch (error) {\n",
              "        console.error('Error during call to suggestCharts:', error);\n",
              "      }\n",
              "      quickchartButtonEl.classList.remove('colab-df-spinner');\n",
              "      quickchartButtonEl.classList.add('colab-df-quickchart-complete');\n",
              "    }\n",
              "    (() => {\n",
              "      let quickchartButtonEl =\n",
              "        document.querySelector('#df-3a04bfb4-cd3b-403d-95df-33582b209760 button');\n",
              "      quickchartButtonEl.style.display =\n",
              "        google.colab.kernel.accessAllowed ? 'block' : 'none';\n",
              "    })();\n",
              "  </script>\n",
              "</div>\n",
              "\n",
              "    </div>\n",
              "  </div>\n"
            ],
            "application/vnd.google.colaboratory.intrinsic+json": {
              "type": "dataframe",
              "summary": "{\n  \"name\": \"df\",\n  \"rows\": 4,\n  \"fields\": [\n    {\n      \"column\": \"textID\",\n      \"properties\": {\n        \"dtype\": \"string\",\n        \"num_unique_values\": 3,\n        \"samples\": [\n          \"27481\",\n          \"cb774db0d1\",\n          \"1\"\n        ],\n        \"semantic_type\": \"\",\n        \"description\": \"\"\n      }\n    },\n    {\n      \"column\": \"text\",\n      \"properties\": {\n        \"dtype\": \"string\",\n        \"num_unique_values\": 3,\n        \"samples\": [\n          \"27480\",\n          \" I`d have responded, if I were going\",\n          \"1\"\n        ],\n        \"semantic_type\": \"\",\n        \"description\": \"\"\n      }\n    },\n    {\n      \"column\": \"selected_text\",\n      \"properties\": {\n        \"dtype\": \"string\",\n        \"num_unique_values\": 4,\n        \"samples\": [\n          22463,\n          \"199\",\n          \"27480\"\n        ],\n        \"semantic_type\": \"\",\n        \"description\": \"\"\n      }\n    },\n    {\n      \"column\": \"sentiment\",\n      \"properties\": {\n        \"dtype\": \"string\",\n        \"num_unique_values\": 4,\n        \"samples\": [\n          3,\n          \"11118\",\n          \"27481\"\n        ],\n        \"semantic_type\": \"\",\n        \"description\": \"\"\n      }\n    }\n  ]\n}"
            }
          },
          "metadata": {},
          "execution_count": 4
        }
      ]
    },
    {
      "cell_type": "code",
      "source": [
        "df.isnull().sum()"
      ],
      "metadata": {
        "colab": {
          "base_uri": "https://localhost:8080/",
          "height": 209
        },
        "id": "xSqDJLGYlLA_",
        "outputId": "7bd90b21-9282-404f-9d37-037f24a0aa14"
      },
      "execution_count": 5,
      "outputs": [
        {
          "output_type": "execute_result",
          "data": {
            "text/plain": [
              "textID           0\n",
              "text             1\n",
              "selected_text    1\n",
              "sentiment        0\n",
              "dtype: int64"
            ],
            "text/html": [
              "<div>\n",
              "<style scoped>\n",
              "    .dataframe tbody tr th:only-of-type {\n",
              "        vertical-align: middle;\n",
              "    }\n",
              "\n",
              "    .dataframe tbody tr th {\n",
              "        vertical-align: top;\n",
              "    }\n",
              "\n",
              "    .dataframe thead th {\n",
              "        text-align: right;\n",
              "    }\n",
              "</style>\n",
              "<table border=\"1\" class=\"dataframe\">\n",
              "  <thead>\n",
              "    <tr style=\"text-align: right;\">\n",
              "      <th></th>\n",
              "      <th>0</th>\n",
              "    </tr>\n",
              "  </thead>\n",
              "  <tbody>\n",
              "    <tr>\n",
              "      <th>textID</th>\n",
              "      <td>0</td>\n",
              "    </tr>\n",
              "    <tr>\n",
              "      <th>text</th>\n",
              "      <td>1</td>\n",
              "    </tr>\n",
              "    <tr>\n",
              "      <th>selected_text</th>\n",
              "      <td>1</td>\n",
              "    </tr>\n",
              "    <tr>\n",
              "      <th>sentiment</th>\n",
              "      <td>0</td>\n",
              "    </tr>\n",
              "  </tbody>\n",
              "</table>\n",
              "</div><br><label><b>dtype:</b> int64</label>"
            ]
          },
          "metadata": {},
          "execution_count": 5
        }
      ]
    },
    {
      "cell_type": "code",
      "source": [
        "df_cleaned = df.dropna()"
      ],
      "metadata": {
        "id": "ZxmFG0TFlP_d"
      },
      "execution_count": 6,
      "outputs": []
    },
    {
      "cell_type": "code",
      "source": [
        "df_cleaned.shape[0]"
      ],
      "metadata": {
        "colab": {
          "base_uri": "https://localhost:8080/"
        },
        "id": "8Jx9F4LTlSuq",
        "outputId": "f0742133-fe89-4b9a-84e9-8d42fb596a90"
      },
      "execution_count": 7,
      "outputs": [
        {
          "output_type": "execute_result",
          "data": {
            "text/plain": [
              "27480"
            ]
          },
          "metadata": {},
          "execution_count": 7
        }
      ]
    },
    {
      "cell_type": "markdown",
      "source": [
        "**Exploratory Data Analysis**\n",
        "\n",
        "Now I conduct an analysis of the number of classes and the distribution of labels. The classes are located in the \"sentiment\" column. I visualize the distribution of text lengths in characters and draw conclusions about the lengths of the posts.\n",
        "\n"
      ],
      "metadata": {
        "id": "BXox7UCZUU5J"
      }
    },
    {
      "cell_type": "code",
      "source": [
        "import matplotlib.pyplot as plt\n",
        "import seaborn as sns\n",
        "\n",
        "df['text'] = df['text'].fillna('')\n",
        "\n",
        "df['text_length'] = df['text'].apply(len)\n",
        "\n",
        "plt.figure(figsize=(10, 6))\n",
        "sns.histplot(df['text_length'], bins=30, kde=True, color='blue')\n",
        "plt.title('Distribution of Text Lengths in Characters', fontsize=15)\n",
        "plt.xlabel('Text Length (in Characters)')\n",
        "plt.ylabel('Count')\n",
        "plt.show()\n",
        "\n",
        "print(\"\\nBasic Statistics for Text Lengths:\")\n",
        "print(df['text_length'].describe())"
      ],
      "metadata": {
        "id": "aPm_wCjpde0s",
        "colab": {
          "base_uri": "https://localhost:8080/",
          "height": 769
        },
        "outputId": "f4b161d6-5cf7-4ee1-f633-60c16a8f4914"
      },
      "execution_count": 8,
      "outputs": [
        {
          "output_type": "display_data",
          "data": {
            "text/plain": [
              "<Figure size 1000x600 with 1 Axes>"
            ],
            "image/png": "[encoded data removed]"
          },
          "metadata": {}
        },
        {
          "output_type": "stream",
          "name": "stdout",
          "text": [
            "\n",
            "Basic Statistics for Text Lengths:\n",
            "count    27481.000000\n",
            "mean        68.327535\n",
            "std         35.605608\n",
            "min          0.000000\n",
            "25%         39.000000\n",
            "50%         64.000000\n",
            "75%         97.000000\n",
            "max        141.000000\n",
            "Name: text_length, dtype: float64\n"
          ]
        }
      ]
    },
    {
      "cell_type": "markdown",
      "source": [
        "The longest text contains 141 characters. Most posts have a short length—ranging from 39 to 97 characters, with a median of 64 characters. A significant portion of the texts is relatively short, but some posts may be empty (with a length of 0 characters), which requires further analysis and processing."
      ],
      "metadata": {
        "id": "J8W8390XmNia"
      }
    },
    {
      "cell_type": "markdown",
      "source": [
        "**Preprocessing Text Data and Vectorization with Bag of Words**\n",
        "\n",
        "My goal here is to obtain vectors using the bag of words method from the text column, performing text preprocessing first. The preprocessing will include:\n",
        "\n",
        "- Removal of stopwords in the required language.\n",
        "- Tokenization (splitting texts into fragments of 1 word).\n",
        "- Stemming words using SnowballStemmer."
      ],
      "metadata": {
        "id": "KfiU4hNDWncB"
      }
    },
    {
      "cell_type": "code",
      "source": [
        "import re\n",
        "import nltk\n",
        "from nltk.corpus import stopwords\n",
        "from nltk.stem import SnowballStemmer\n",
        "from sklearn.feature_extraction.text import CountVectorizer\n",
        "\n",
        "# Download stopwords (assuming the language of the texts is English; change for other languages)\n",
        "nltk.download('stopwords')\n",
        "stop_words = set(stopwords.words('english'))  # If the text is in Ukrainian, change to 'ukrainian'\n",
        "\n",
        "# Initialize the stemmer\n",
        "stemmer = SnowballStemmer('english')  # If the text is in Ukrainian, change to 'russian'\n",
        "\n",
        "# Function for cleaning the text\n",
        "def preprocess_text(text):\n",
        "    # 1. Convert the text to lowercase\n",
        "    text = text.lower()\n",
        "\n",
        "    # 2. Remove unwanted characters, keeping only letters and spaces\n",
        "    text = re.sub(r'[^a-z\\s]', '', text)\n",
        "\n",
        "    # 3. Tokenization (splitting into words)\n",
        "    tokens = text.split()\n",
        "\n",
        "    # 4. Remove stopwords\n",
        "    tokens = [word for word in tokens if word not in stop_words]\n",
        "\n",
        "    # 5. Stemming\n",
        "    tokens = [stemmer.stem(word) for word in tokens]\n",
        "\n",
        "    # Join tokens back into a string\n",
        "    return ' '.join(tokens)\n",
        "\n",
        "# Apply preprocessing to each text\n",
        "df['cleaned_text'] = df['text'].fillna('').apply(preprocess_text)\n",
        "\n",
        "# Check the cleaned texts\n",
        "print(df['cleaned_text'].head())\n"
      ],
      "metadata": {
        "id": "BRUG111tdhB0",
        "colab": {
          "base_uri": "https://localhost:8080/"
        },
        "outputId": "643f2633-124f-4900-9af2-adb8f668da09"
      },
      "execution_count": 9,
      "outputs": [
        {
          "output_type": "stream",
          "name": "stderr",
          "text": [
            "[nltk_data] Downloading package stopwords to /root/nltk_data...\n",
            "[nltk_data]   Unzipping corpora/stopwords.zip.\n"
          ]
        },
        {
          "output_type": "stream",
          "name": "stdout",
          "text": [
            "0                            id respond go\n",
            "1                  sooo sad miss san diego\n",
            "2                               boss bulli\n",
            "3                      interview leav alon\n",
            "4    son couldnt put releas alreadi bought\n",
            "Name: cleaned_text, dtype: object\n"
          ]
        }
      ]
    },
    {
      "cell_type": "code",
      "source": [
        "# Initialize CountVectorizer\n",
        "vectorizer = CountVectorizer(max_features=5000)  # Set the dictionary size (5000 words)\n",
        "\n",
        "# Apply vectorization to the cleaned texts\n",
        "X = vectorizer.fit_transform(df['cleaned_text'])\n",
        "\n",
        "# Output the first 5 vectorized texts\n",
        "print(X.toarray()[:5])\n",
        "\n",
        "# Print the dimensions of the matrix after vectorization\n",
        "print(f\"Matrix shape after vectorization: {X.shape}\")"
      ],
      "metadata": {
        "colab": {
          "base_uri": "https://localhost:8080/"
        },
        "id": "eQWm3FoKmn8C",
        "outputId": "f08be62a-473e-4b6c-e238-24e85cf58ff7"
      },
      "execution_count": 10,
      "outputs": [
        {
          "output_type": "stream",
          "name": "stdout",
          "text": [
            "[[0 0 0 ... 0 0 0]\n",
            " [0 0 0 ... 0 0 0]\n",
            " [0 0 0 ... 0 0 0]\n",
            " [0 0 0 ... 0 0 0]\n",
            " [0 0 0 ... 0 0 0]]\n",
            "Matrix shape after vectorization: (27481, 5000)\n"
          ]
        }
      ]
    },
    {
      "cell_type": "markdown",
      "source": [
        "**Building a Classifier**\n",
        "\n",
        "Next I will split the data indices into training and testing sets in the chosen ratio. Using the obtained indices, form the sets for training the classifier: X_train_bow, X_test_bow, y_train, and y_test.\n",
        "\n",
        "I will train a classifier on the data vectorized using the bag-of-words method.\n",
        "\n"
      ],
      "metadata": {
        "id": "v0RHDwO7OBIJ"
      }
    },
    {
      "cell_type": "code",
      "source": [
        "import pandas as pd\n",
        "from sklearn.model_selection import train_test_split\n",
        "from sklearn.linear_model import LogisticRegression\n",
        "from sklearn.tree import DecisionTreeClassifier\n",
        "from sklearn.ensemble import GradientBoostingClassifier\n",
        "from sklearn.metrics import accuracy_score, classification_report, confusion_matrix\n",
        "\n",
        "# Form X and y (feature matrix and target variable)\n",
        "X = X  # this is the result of vectorization from the previous stage (bag of words)\n",
        "y = df['sentiment']  # Target variable - classes\n",
        "\n",
        "# Split the data into training and testing sets (80% training, 20% testing)\n",
        "X_train_bow, X_test_bow, y_train, y_test = train_test_split(X, y, test_size=0.2, random_state=42)\n",
        "\n",
        "# Try several models:\n",
        "# 1. Logistic Regression\n",
        "log_reg = LogisticRegression(max_iter=1000)\n",
        "log_reg.fit(X_train_bow, y_train)\n",
        "y_pred_log_reg = log_reg.predict(X_test_bow)\n",
        "\n",
        "# 2. Decision Tree\n",
        "tree = DecisionTreeClassifier()\n",
        "tree.fit(X_train_bow, y_train)\n",
        "y_pred_tree = tree.predict(X_test_bow)\n",
        "\n",
        "# 3. Gradient Boosting\n",
        "gb_clf = GradientBoostingClassifier()\n",
        "gb_clf.fit(X_train_bow, y_train)\n",
        "y_pred_gb = gb_clf.predict(X_test_bow)\n",
        "\n",
        "# Evaluate classification quality for each model\n",
        "def evaluate_model(y_test, y_pred, model_name):\n",
        "    print(f\"--- {model_name} ---\")\n",
        "    print(f\"Accuracy: {accuracy_score(y_test, y_pred):.4f}\")\n",
        "    print(\"Classification Report:\")\n",
        "    print(classification_report(y_test, y_pred))\n",
        "    print(\"Confusion Matrix:\")\n",
        "    print(confusion_matrix(y_test, y_pred))\n",
        "    print(\"\\n\")\n",
        "\n",
        "# Evaluate each model\n",
        "evaluate_model(y_test, y_pred_log_reg, \"Logistic Regression\")\n",
        "evaluate_model(y_test, y_pred_tree, \"Decision Tree\")\n",
        "evaluate_model(y_test, y_pred_gb, \"Gradient Boosting\")\n"
      ],
      "metadata": {
        "id": "NVdpanFFdkyo",
        "colab": {
          "base_uri": "https://localhost:8080/"
        },
        "outputId": "53f8c543-c230-427e-c786-075a6851d18a"
      },
      "execution_count": 11,
      "outputs": [
        {
          "output_type": "stream",
          "name": "stdout",
          "text": [
            "--- Logistic Regression ---\n",
            "Accuracy: 0.6815\n",
            "Classification Report:\n",
            "              precision    recall  f1-score   support\n",
            "\n",
            "    negative       0.70      0.62      0.66      1562\n",
            "     neutral       0.63      0.70      0.67      2230\n",
            "    positive       0.74      0.71      0.72      1705\n",
            "\n",
            "    accuracy                           0.68      5497\n",
            "   macro avg       0.69      0.68      0.68      5497\n",
            "weighted avg       0.69      0.68      0.68      5497\n",
            "\n",
            "Confusion Matrix:\n",
            "[[ 972  479  111]\n",
            " [ 346 1570  314]\n",
            " [  69  432 1204]]\n",
            "\n",
            "\n",
            "--- Decision Tree ---\n",
            "Accuracy: 0.6449\n",
            "Classification Report:\n",
            "              precision    recall  f1-score   support\n",
            "\n",
            "    negative       0.60      0.66      0.63      1562\n",
            "     neutral       0.65      0.57      0.61      2230\n",
            "    positive       0.68      0.72      0.70      1705\n",
            "\n",
            "    accuracy                           0.64      5497\n",
            "   macro avg       0.64      0.65      0.65      5497\n",
            "weighted avg       0.65      0.64      0.64      5497\n",
            "\n",
            "Confusion Matrix:\n",
            "[[1030  375  157]\n",
            " [ 532 1282  416]\n",
            " [ 148  324 1233]]\n",
            "\n",
            "\n",
            "--- Gradient Boosting ---\n",
            "Accuracy: 0.6596\n",
            "Classification Report:\n",
            "              precision    recall  f1-score   support\n",
            "\n",
            "    negative       0.79      0.45      0.57      1562\n",
            "     neutral       0.57      0.83      0.68      2230\n",
            "    positive       0.77      0.63      0.70      1705\n",
            "\n",
            "    accuracy                           0.66      5497\n",
            "   macro avg       0.71      0.64      0.65      5497\n",
            "weighted avg       0.70      0.66      0.65      5497\n",
            "\n",
            "Confusion Matrix:\n",
            "[[ 697  774   91]\n",
            " [ 156 1848  226]\n",
            " [  32  592 1081]]\n",
            "\n",
            "\n"
          ]
        }
      ]
    },
    {
      "cell_type": "markdown",
      "source": [
        "The best model is Logistic Regression, which shows the highest overall accuracy and the most balanced results across all classes.\n",
        "\n",
        "Gradient Boosting performs well with neutral posts but struggles with classifying negative ones. The Decision Tree demonstrates the lowest accuracy among all the models.\n",
        "\n",
        "Logistic Regression is the most effective model for this dataset, but additional data processing techniques or different models could be explored to improve accuracy."
      ],
      "metadata": {
        "id": "VvxbgoX7nlYi"
      }
    },
    {
      "cell_type": "markdown",
      "source": [
        "**Analyzing the Importance of Words in the Selected Classifier**\n",
        "\n",
        "For the chosen model I'll conduct an analysis of word importance (features): which words (tokens) have the most influence on determining sentiment?"
      ],
      "metadata": {
        "id": "53hZa4bKP5Cx"
      }
    },
    {
      "cell_type": "code",
      "source": [
        "import numpy as np\n",
        "\n",
        "# Get words (tokens) from the vectorizer\n",
        "words = vectorizer.get_feature_names_out()\n",
        "\n",
        "# Get coefficients of the logistic regression\n",
        "coefficients = log_reg.coef_\n",
        "\n",
        "# For each class (negative, neutral, positive), output the most influential words\n",
        "def most_influential_words(class_index, top_n=10):\n",
        "    # Sort words by the magnitude of coefficients\n",
        "    top_positive_indices = np.argsort(coefficients[class_index])[::-1][:top_n]\n",
        "    top_negative_indices = np.argsort(coefficients[class_index])[:top_n]\n",
        "\n",
        "    print(f\"\\nMost Influential Words for Class {class_index} (Positive):\")\n",
        "    for i in top_positive_indices:\n",
        "        print(f\"{words[i]}: {coefficients[class_index][i]:.4f}\")\n",
        "\n",
        "    print(f\"\\nMost Influential Words for Class {class_index} (Negative):\")\n",
        "    for i in top_negative_indices:\n",
        "        print(f\"{words[i]}: {coefficients[class_index][i]:.4f}\")\n",
        "\n",
        "# Analyze word influence for each class\n",
        "print(\"Class: Negative Posts\")\n",
        "most_influential_words(0)\n",
        "\n",
        "print(\"\\nClass: Neutral Posts\")\n",
        "most_influential_words(1)\n",
        "\n",
        "print(\"\\nClass: Positive Posts\")\n",
        "most_influential_words(2)\n"
      ],
      "metadata": {
        "id": "z0YBHvG4dmKb",
        "colab": {
          "base_uri": "https://localhost:8080/"
        },
        "outputId": "7840d45b-159b-4c9e-c46c-d9535c45d4e0"
      },
      "execution_count": 12,
      "outputs": [
        {
          "output_type": "stream",
          "name": "stdout",
          "text": [
            "Class: Negative Posts\n",
            "\n",
            "Most Influential Words for Class 0 (Positive):\n",
            "sad: 2.7654\n",
            "suck: 2.4807\n",
            "hate: 2.3810\n",
            "bore: 2.1484\n",
            "exhaust: 2.1464\n",
            "sorri: 2.1287\n",
            "fail: 2.1187\n",
            "worst: 2.0882\n",
            "hurt: 2.0786\n",
            "stupid: 2.0668\n",
            "\n",
            "Most Influential Words for Class 0 (Negative):\n",
            "awesom: -2.3982\n",
            "glad: -2.2723\n",
            "thank: -2.1997\n",
            "love: -2.1762\n",
            "cute: -1.9177\n",
            "beauti: -1.8748\n",
            "excit: -1.8205\n",
            "congrat: -1.8096\n",
            "amaz: -1.7193\n",
            "welcom: -1.6699\n",
            "\n",
            "Class: Neutral Posts\n",
            "\n",
            "Most Influential Words for Class 1 (Positive):\n",
            "otherwis: 1.4811\n",
            "gent: 1.3050\n",
            "parvo: 1.2531\n",
            "cassi: 1.2434\n",
            "logic: 1.2317\n",
            "how: 1.2213\n",
            "jst: 1.1954\n",
            "plz: 1.1912\n",
            "innoc: 1.1566\n",
            "grade: 1.1393\n",
            "\n",
            "Most Influential Words for Class 1 (Negative):\n",
            "thrill: -1.4427\n",
            "beyond: -1.4022\n",
            "congratul: -1.3793\n",
            "wtf: -1.2767\n",
            "sober: -1.2704\n",
            "delici: -1.2568\n",
            "product: -1.2486\n",
            "blast: -1.2332\n",
            "spirit: -1.2198\n",
            "nut: -1.1941\n",
            "\n",
            "Class: Positive Posts\n",
            "\n",
            "Most Influential Words for Class 2 (Positive):\n",
            "awesom: 2.7487\n",
            "thank: 2.6251\n",
            "cute: 2.4904\n",
            "love: 2.3656\n",
            "excit: 2.3040\n",
            "amaz: 2.2985\n",
            "glad: 2.2405\n",
            "gorgeous: 2.1395\n",
            "nice: 2.1046\n",
            "enjoy: 2.0806\n",
            "\n",
            "Most Influential Words for Class 2 (Negative):\n",
            "sad: -2.7969\n",
            "shame: -2.3518\n",
            "tire: -2.2585\n",
            "suck: -2.2255\n",
            "sorri: -2.2216\n",
            "hate: -2.1696\n",
            "bore: -1.9729\n",
            "jealous: -1.9530\n",
            "exhaust: -1.9418\n",
            "miss: -1.8683\n"
          ]
        }
      ]
    },
    {
      "cell_type": "markdown",
      "source": [
        "The identified words and their impact on different classes meet expectations. Negative words prevail for negative posts, while positive words dominate for positive ones. This confirms the model's adequacy in the context of sentiment detection.\n",
        "\n",
        "Words that have a strong negative impact in the context of positive posts may be used in an ironic or sarcastic style. This could also be a reason for reduced classification accuracy in certain cases.\n",
        "\n",
        "If the model demonstrates issues with context, it may be worthwhile to refine the data cleaning process or explore other approaches for detecting and handling irony and sarcasm."
      ],
      "metadata": {
        "id": "wLWvCRvJoLIp"
      }
    },
    {
      "cell_type": "markdown",
      "source": [
        "**Text Vectorization Using TF-IDF. Training a Classifier, Accuracy Analysis, and Word Influence**\n",
        "\n",
        "I will conduct text vectorization using TfidfVectorizer and implement the vectorization so that preprocessing includes all the same steps as in the case of using Bag of Words vectorization.\n",
        "\n",
        "Then will train the same classifier on TF-IDF vectors, ensuring that the training set includes all the same records as in the previous task (this is important for comparing results).\n"
      ],
      "metadata": {
        "id": "FvJlvr9JRhzq"
      }
    },
    {
      "cell_type": "code",
      "source": [
        "from sklearn.feature_extraction.text import TfidfVectorizer\n",
        "\n",
        "# Function for preprocessing texts\n",
        "def preprocess_text(text):\n",
        "    text = text.lower()  # Convert to lowercase\n",
        "    text = re.sub(r'\\d+', '', text)  # Remove digits\n",
        "    text = re.sub(r'[^\\w\\s]', '', text)  # Remove punctuation\n",
        "    text = ' '.join([stemmer.stem(word) for word in text.split() if word not in stop_words])  # Tokenization and stemming\n",
        "    return text\n",
        "\n",
        "# Initialize TF-IDF vectorizer\n",
        "tfidf_vectorizer = TfidfVectorizer(preprocessor=preprocess_text, max_features=5000)  # Limit vocabulary to 5000 words\n",
        "\n",
        "# Transform text into TF-IDF vectors\n",
        "X_tfidf = tfidf_vectorizer.fit_transform(df['text'])\n",
        "\n",
        "# Split the data into training and test sets\n",
        "X_train_tfidf, X_test_tfidf, y_train, y_test = train_test_split(X_tfidf, df['sentiment'], test_size=0.3, random_state=42)\n",
        "\n",
        "# Train the classifier on TF-IDF vectors (for example, logistic regression)\n",
        "log_reg_tfidf = LogisticRegression(max_iter=1000, random_state=42)\n",
        "log_reg_tfidf.fit(X_train_tfidf, y_train)\n",
        "\n",
        "# Evaluate classification quality\n",
        "y_pred_tfidf = log_reg_tfidf.predict(X_test_tfidf)\n",
        "\n",
        "# Output quality metrics\n",
        "from sklearn.metrics import classification_report, accuracy_score, confusion_matrix\n",
        "\n",
        "print(f\"Accuracy on TF-IDF vectors: {accuracy_score(y_test, y_pred_tfidf):.4f}\")\n",
        "print(\"\\nClassification report:\")\n",
        "print(classification_report(y_test, y_pred_tfidf, target_names=['negative', 'neutral', 'positive']))\n",
        "print(\"\\nConfusion matrix:\")\n",
        "print(confusion_matrix(y_test, y_pred_tfidf))\n"
      ],
      "metadata": {
        "id": "huUPpVhMdodx",
        "colab": {
          "base_uri": "https://localhost:8080/"
        },
        "outputId": "ccd295cf-da9c-4500-c25f-5d827e270d43"
      },
      "execution_count": 13,
      "outputs": [
        {
          "output_type": "stream",
          "name": "stdout",
          "text": [
            "Accuracy on TF-IDF vectors: 0.6911\n",
            "\n",
            "Classification report:\n",
            "              precision    recall  f1-score   support\n",
            "\n",
            "    negative       0.73      0.60      0.66      2338\n",
            "     neutral       0.63      0.75      0.69      3371\n",
            "    positive       0.77      0.70      0.73      2536\n",
            "\n",
            "    accuracy                           0.69      8245\n",
            "   macro avg       0.71      0.68      0.69      8245\n",
            "weighted avg       0.70      0.69      0.69      8245\n",
            "\n",
            "\n",
            "Confusion matrix:\n",
            "[[1392  796  150]\n",
            " [ 440 2543  388]\n",
            " [  73  700 1763]]\n"
          ]
        }
      ]
    },
    {
      "cell_type": "code",
      "source": [
        "# Get words (tokens) from the TF-IDF vectorizer\n",
        "tfidf_words = tfidf_vectorizer.get_feature_names_out()\n",
        "\n",
        "# Get the coefficients of logistic regression for TF-IDF\n",
        "tfidf_coefficients = log_reg_tfidf.coef_\n",
        "\n",
        "# Function to output the most influential words\n",
        "def most_influential_words_tfidf(class_index, top_n=10):\n",
        "    top_positive_indices = np.argsort(tfidf_coefficients[class_index])[::-1][:top_n]\n",
        "    top_negative_indices = np.argsort(tfidf_coefficients[class_index])[:top_n]\n",
        "\n",
        "    print(f\"\\nMost influential words for class {class_index} (positive) in TF-IDF:\")\n",
        "    for i in top_positive_indices:\n",
        "        print(f\"{tfidf_words[i]}: {tfidf_coefficients[class_index][i]:.4f}\")\n",
        "\n",
        "    print(f\"\\nMost influential words for class {class_index} (negative) in TF-IDF:\")\n",
        "    for i in top_negative_indices:\n",
        "        print(f\"{tfidf_words[i]}: {tfidf_coefficients[class_index][i]:.4f}\")\n",
        "\n",
        "# Analyze the influence of words for each class in TF-IDF\n",
        "print(\"Class: Negative Posts\")\n",
        "most_influential_words_tfidf(0)\n",
        "\n",
        "print(\"\\nClass: Neutral Posts\")\n",
        "most_influential_words_tfidf(1)\n",
        "\n",
        "print(\"\\nClass: Positive Posts\")\n",
        "most_influential_words_tfidf(2)\n"
      ],
      "metadata": {
        "colab": {
          "base_uri": "https://localhost:8080/"
        },
        "id": "asn5bceMocXz",
        "outputId": "69ff2d29-8a5a-46ba-8586-c5c1ec7871fa"
      },
      "execution_count": 14,
      "outputs": [
        {
          "output_type": "stream",
          "name": "stdout",
          "text": [
            "Class: Negative Posts\n",
            "\n",
            "Most influential words for class 0 (positive) in TF-IDF:\n",
            "sad: 5.0715\n",
            "miss: 4.6294\n",
            "suck: 4.2974\n",
            "hate: 4.2039\n",
            "sorri: 3.9267\n",
            "bore: 3.5283\n",
            "hurt: 3.4069\n",
            "fail: 3.3556\n",
            "tire: 3.1707\n",
            "stupid: 3.0770\n",
            "\n",
            "Most influential words for class 0 (negative) in TF-IDF:\n",
            "love: -4.7546\n",
            "thank: -3.8715\n",
            "awesom: -3.1714\n",
            "glad: -2.8273\n",
            "hope: -2.7787\n",
            "great: -2.5452\n",
            "excit: -2.4473\n",
            "better: -2.2293\n",
            "nice: -2.1579\n",
            "cute: -2.1524\n",
            "\n",
            "Class: Neutral Posts\n",
            "\n",
            "Most influential words for class 1 (positive) in TF-IDF:\n",
            "how: 1.5059\n",
            "dm: 1.3971\n",
            "sent: 1.1741\n",
            "moro: 1.0268\n",
            "pub: 0.9949\n",
            "tho: 0.9907\n",
            "logic: 0.9869\n",
            "grade: 0.9843\n",
            "workin: 0.9697\n",
            "england: 0.9433\n",
            "\n",
            "Most influential words for class 1 (negative) in TF-IDF:\n",
            "happi: -2.4347\n",
            "nice: -2.2434\n",
            "good: -2.2265\n",
            "great: -1.9939\n",
            "thank: -1.9562\n",
            "fail: -1.9414\n",
            "awesom: -1.8923\n",
            "stupid: -1.7708\n",
            "enjoy: -1.7297\n",
            "fun: -1.7293\n",
            "\n",
            "Class: Positive Posts\n",
            "\n",
            "Most influential words for class 2 (positive) in TF-IDF:\n",
            "love: 6.2768\n",
            "thank: 5.8277\n",
            "awesom: 5.0636\n",
            "great: 4.5391\n",
            "happi: 4.5128\n",
            "nice: 4.4012\n",
            "good: 4.2185\n",
            "excit: 4.0148\n",
            "amaz: 3.8302\n",
            "enjoy: 3.7371\n",
            "\n",
            "Most influential words for class 2 (negative) in TF-IDF:\n",
            "miss: -3.7464\n",
            "sad: -3.5729\n",
            "tire: -3.1520\n",
            "hate: -3.0424\n",
            "suck: -3.0364\n",
            "sorri: -3.0078\n",
            "bore: -2.4595\n",
            "poor: -2.1240\n",
            "shame: -2.0491\n",
            "bad: -2.0426\n"
          ]
        }
      ]
    },
    {
      "cell_type": "markdown",
      "source": [
        "**Quality of Classification**\n",
        "\n",
        "The classification results using TF-IDF vectors show some improvements compared to the Bag of Words classification:\n",
        "\n",
        "Accuracy: The accuracy with TF-IDF vectors is 0.6907, which is an improvement over the Bag of Words accuracy of 0.6822.\n",
        "\n",
        "**Classification Report**:\n",
        "\n",
        "Negative: Precision increased (0.73 vs. 0.70), but recall slightly decreased (0.59 vs. 0.62). This suggests that the model is becoming more precise in identifying negative posts but may be missing some of them.\n",
        "Neutral: Both precision (0.63 vs. 0.63) and recall (0.76 vs. 0.70) increased. This indicates an improvement in the classification quality of neutral posts.\n",
        "Positive: Precision improved (0.77 vs. 0.74), while recall decreased slightly (0.69 vs. 0.71). This suggests that the model better identifies positive posts but may miss some as well.\n",
        "Confusion Matrix: Examining the confusion matrix reveals that TF-IDF helped reduce misclassification errors in certain classes, particularly in the \"Neutral\" class, where the number of misclassifications decreased.\n",
        "\n",
        "Importance of Words\n",
        "The analysis of important words showed significant differences between TF-IDF and Bag of Words:\n",
        "\n",
        "Negative Posts:\n",
        "\n",
        "TF-IDF: Important words include sad, miss, suck, and hate, reflecting common negative terms.\n",
        "Bag of Words: Similar important words are sad, suck, and hate, but in TF-IDF, these words carry more weight, emphasizing their significance in the negative context.\n",
        "\n",
        "Neutral Posts:\n",
        "\n",
        "TF-IDF: Important words include how, dm, and sent, indicating specific terms that frequently occur in neutral contexts.\n",
        "Bag of Words: Important words are different, such as thrill and congratulate, which have less impact on classification.\n",
        "\n",
        "Positive Posts:\n",
        "\n",
        "TF-IDF: Key words include love, thank, and awesome, reflecting a positive context.\n",
        "Bag of Words: Similar words are love, thank, and awesome, but TF-IDF highlights their significance more explicitly.\n",
        "\n",
        "**Choice of Vectorization for Final Implementation**\n",
        "TF-IDF generally provides better accuracy since it considers both the term frequency in the document and its frequency across the entire corpus. This helps to better highlight important terms. The results demonstrate improvements in accuracy, classification metrics, and the identification of significant words.\n",
        "\n",
        "Bag of Words is a simpler and faster method but may overlook crucial information about terms that have varying frequencies across different documents.\n",
        "\n",
        "Ultimately, TF-IDF is the better choice for the final implementation of the solution. This is supported by the improved classification quality and the more effective representation of significant terms, making the model more sensitive to important words in the texts.\n"
      ],
      "metadata": {
        "id": "qMCUzx4do5Yu"
      }
    },
    {
      "cell_type": "markdown",
      "source": [
        "**Error Analysis of Classification with TF-IDF Vectorization.**\n",
        "\n",
        "Now I'll analyze the instances where the classifier makes mistakes using TF-IDF vectorization."
      ],
      "metadata": {
        "id": "3zsp9KftOqyS"
      }
    },
    {
      "cell_type": "code",
      "source": [
        "from sklearn.model_selection import train_test_split\n",
        "\n",
        "# Assume that 'df' is your DataFrame, and 'text' and 'sentiment' are the respective columns\n",
        "X = df['text']\n",
        "y = df['sentiment']\n",
        "\n",
        "# Split the data into training and testing sets\n",
        "X_train, X_test, y_train, y_test = train_test_split(X, y, test_size=0.2, random_state=42)"
      ],
      "metadata": {
        "id": "Edn7wTYirM3O"
      },
      "execution_count": 15,
      "outputs": []
    },
    {
      "cell_type": "code",
      "source": [
        "from sklearn.feature_extraction.text import TfidfVectorizer\n",
        "\n",
        "# Train TF-IDF\n",
        "tfidf_vectorizer = TfidfVectorizer(stop_words='english', max_features=10000)\n",
        "X_train_tfidf = tfidf_vectorizer.fit_transform(X_train)\n",
        "X_test_tfidf = tfidf_vectorizer.transform(X_test)"
      ],
      "metadata": {
        "id": "hy9UWz1KreSj"
      },
      "execution_count": 16,
      "outputs": []
    },
    {
      "cell_type": "code",
      "source": [
        "from sklearn.linear_model import LogisticRegression\n",
        "\n",
        "# Train model\n",
        "model = LogisticRegression(max_iter=1000)\n",
        "model.fit(X_train_tfidf, y_train)\n",
        "\n",
        "# Getting predictions\n",
        "y_pred = model.predict(X_test_tfidf)"
      ],
      "metadata": {
        "id": "J7uoJ2RVrhEV"
      },
      "execution_count": 17,
      "outputs": []
    },
    {
      "cell_type": "code",
      "source": [
        "import pandas as pd\n",
        "import numpy as np\n",
        "\n",
        "# Check data types\n",
        "print(\"Type of y_test:\", type(y_test))\n",
        "print(\"Type of y_pred:\", type(y_pred))\n",
        "\n",
        "# Check unique values\n",
        "print(\"Unique values in y_test:\", np.unique(y_test))\n",
        "print(\"Unique values in y_pred:\", np.unique(y_pred))\n",
        "\n",
        "# Convert to numeric labels if needed\n",
        "y_test = pd.Series(y_test).astype('category').cat.codes\n",
        "y_pred = pd.Series(y_pred).astype('category').cat.codes\n",
        "\n",
        "# Check unique values after conversion\n",
        "print(\"Unique values in y_test after conversion:\", np.unique(y_test))\n",
        "print(\"Unique values in y_pred after conversion:\", np.unique(y_pred))\n",
        "\n",
        "# Now build the confusion matrix\n",
        "from sklearn.metrics import confusion_matrix\n",
        "import matplotlib.pyplot as plt\n",
        "import seaborn as sns\n",
        "\n",
        "cm = confusion_matrix(y_test, y_pred, labels=[0, 1, 2])\n",
        "plt.figure(figsize=(10, 7))\n",
        "sns.heatmap(cm, annot=True, fmt='d', cmap='Blues', xticklabels=['negative', 'neutral', 'positive'], yticklabels=['negative', 'neutral', 'positive'])\n",
        "plt.xlabel('Predicted Label')\n",
        "plt.ylabel('True Label')\n",
        "plt.title('Confusion Matrix (TF-IDF)')\n",
        "plt.show()"
      ],
      "metadata": {
        "colab": {
          "base_uri": "https://localhost:8080/",
          "height": 752
        },
        "id": "NjHOg_-4ru7Z",
        "outputId": "75d7d813-0cec-43e9-c259-a73e448d444c"
      },
      "execution_count": 18,
      "outputs": [
        {
          "output_type": "stream",
          "name": "stdout",
          "text": [
            "Type of y_test: <class 'pandas.core.series.Series'>\n",
            "Type of y_pred: <class 'numpy.ndarray'>\n",
            "Unique values in y_test: ['negative' 'neutral' 'positive']\n",
            "Unique values in y_pred: ['negative' 'neutral' 'positive']\n",
            "Unique values in y_test after conversion: [0 1 2]\n",
            "Unique values in y_pred after conversion: [0 1 2]\n"
          ]
        },
        {
          "output_type": "display_data",
          "data": {
            "text/plain": [
              "<Figure size 1000x700 with 2 Axes>"
            ],
            "image/png": "[encoded data removed]"
          },
          "metadata": {}
        }
      ]
    },
    {
      "cell_type": "code",
      "source": [
        "# Getting important words for each class\n",
        "feature_names = tfidf_vectorizer.get_feature_names_out()\n",
        "coef = model.coef_\n",
        "\n",
        "for i, class_name in enumerate(['negative', 'neutral', 'positive']):\n",
        "    top_indices = np.argsort(coef[i])[-10:]  # top-10 words\n",
        "    bottom_indices = np.argsort(coef[i])[:10]  # least important top-10 words\n",
        "\n",
        "    top_words = [feature_names[j] for j in top_indices]\n",
        "    top_scores = coef[i][top_indices]\n",
        "\n",
        "    bottom_words = [feature_names[j] for j in bottom_indices]\n",
        "    bottom_scores = coef[i][bottom_indices]\n",
        "\n",
        "    plt.figure(figsize=(10, 6))\n",
        "    plt.barh(top_words, top_scores, color='green', label='Important')\n",
        "    plt.barh(bottom_words, bottom_scores, color='red', label='Less Important')\n",
        "    plt.xlabel('TF-IDF Score')\n",
        "    plt.title(f'Important Words for Class {class_name} (TF-IDF)')\n",
        "    plt.legend()\n",
        "    plt.show()\n"
      ],
      "metadata": {
        "colab": {
          "base_uri": "https://localhost:8080/",
          "height": 1000
        },
        "id": "2zjPZXRZsRTR",
        "outputId": "925f3537-7ff4-413d-bb74-bc57c9476240"
      },
      "execution_count": 19,
      "outputs": [
        {
          "output_type": "display_data",
          "data": {
            "text/plain": [
              "<Figure size 1000x600 with 1 Axes>"
            ],
            "image/png": "[encoded data removed]"
          },
          "metadata": {}
        },
        {
          "output_type": "display_data",
          "data": {
            "text/plain": [
              "<Figure size 1000x600 with 1 Axes>"
            ],
            "image/png": "[encoded data removed]"
          },
          "metadata": {}
        },
        {
          "output_type": "display_data",
          "data": {
            "text/plain": [
              "<Figure size 1000x600 with 1 Axes>"
            ],
            "image/png": "[encoded data removed]"
          },
          "metadata": {}
        }
      ]
    }
  ]
}